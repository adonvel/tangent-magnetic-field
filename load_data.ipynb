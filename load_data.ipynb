{
 "cells": [
  {
   "cell_type": "code",
   "execution_count": 1,
   "id": "947cfb77-0832-4eda-9b9c-84592d0a083d",
   "metadata": {},
   "outputs": [],
   "source": [
    "import numpy as np\n",
    "import matplotlib.pyplot as plt\n",
    "import magnetic_boundaries as mb\n",
    "from math import pi"
   ]
  },
  {
   "cell_type": "code",
   "execution_count": 3,
   "id": "79a5784e-506d-4122-9c8c-07c0d0ebf66f",
   "metadata": {},
   "outputs": [],
   "source": [
    "parameters = dict(\n",
    "    Ly = 61,\n",
    "    Lx = 61,\n",
    ")\n",
    "\n",
    "\n",
    "path = 'data/'\n",
    "name = 'disorder_tangent'\n",
    "\n",
    "number_of_jobs = 100\n",
    "nbands = (parameters['Lx']*parameters['Ly'])//2\n",
    "spectrum = np.zeros((number_of_jobs,nbands))\n",
    "\n",
    "for job in range(number_of_jobs):\n",
    "    spectrum[job] = np.load(path+name+'_Lx'+str(parameters['Lx'])+'_Ly'+str(parameters['Ly'])+str(job)+'.npy', allow_pickle=True)"
   ]
  },
  {
   "cell_type": "code",
   "execution_count": null,
   "id": "cfcd3be8-da89-4c05-b441-3e5d4d184eb9",
   "metadata": {},
   "outputs": [
    {
     "name": "stderr",
     "output_type": "stream",
     "text": [
      "/tmp/ipykernel_28889/3389644702.py:9: RuntimeWarning: More than 20 figures have been opened. Figures created through the pyplot interface (`matplotlib.pyplot.figure`) are retained until explicitly closed and may consume too much memory. (To control this warning, see the rcParam `figure.max_open_warning`). Consider using `matplotlib.pyplot.close()`.\n",
      "  fig = plt.figure(figsize = (7,7))\n"
     ]
    }
   ],
   "source": [
    "for job in range(number_of_jobs):\n",
    "    nbins = parameters['Lx']*parameters['Ly']//15+1-(parameters['Lx']*parameters['Ly']//15)%2\n",
    "    #The previous line ensures that the amount of bins is proportional to the system size and always odd.\n",
    "    density_of_states, bin_edges = np.histogram(spectrum[job], bins = nbins, range = (-1,1), density = False)\n",
    "    \n",
    "    x = (bin_edges[1:]+bin_edges[:-1])/2\n",
    "    dx = (bin_edges[1]-bin_edges[0])\n",
    "    \n",
    "    fig = plt.figure(figsize = (7,7))\n",
    "    ax = fig.add_subplot(111)\n",
    "    area = parameters['Lx']*parameters['Ly']\n",
    "    ax.bar(x,density_of_states/dx/area,width = dx)\n",
    "    ax.set_ylabel(r\"$\\rho$ $(\\hbar va)^-1$\",fontsize = 18)\n",
    "    ax.set_xlabel(r\"$E\\,(\\hbar v/a)$\",fontsize = 18)\n",
    "    #ax.axvline(np.sqrt(2*parameters['mag_field']), c = 'C3') #First Landau level\n",
    "    ax.set_ylim(0,3)"
   ]
  },
  {
   "cell_type": "code",
   "execution_count": null,
   "id": "7f0d1cdf-0d40-4298-be24-2b3f1da21c5e",
   "metadata": {},
   "outputs": [],
   "source": []
  }
 ],
 "metadata": {
  "kernelspec": {
   "display_name": "Python 3 (ipykernel)",
   "language": "python",
   "name": "python3"
  },
  "language_info": {
   "codemirror_mode": {
    "name": "ipython",
    "version": 3
   },
   "file_extension": ".py",
   "mimetype": "text/x-python",
   "name": "python",
   "nbconvert_exporter": "python",
   "pygments_lexer": "ipython3",
   "version": "3.12.2"
  }
 },
 "nbformat": 4,
 "nbformat_minor": 5
}
