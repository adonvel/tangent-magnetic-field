{
 "cells": [
  {
   "cell_type": "code",
   "execution_count": 4,
   "id": "15aeb60d-dfbb-4ffa-be7a-023485ac7881",
   "metadata": {},
   "outputs": [],
   "source": [
    "import numpy as np\n",
    "import matplotlib.pyplot as plt\n",
    "import scipy.sparse\n",
    "from scipy.sparse import csr_matrix, csc_matrix, coo_matrix, linalg as sla\n",
    "from math import pi\n",
    "import magnetic_boundaries as mb\n",
    "\n",
    "sigma_0 = np.array([[1,0],[0,1]])\n",
    "sigma_x = np.array([[0,1],[1,0]])\n",
    "sigma_y = np.array([[0,-1j],[1j,0]])\n",
    "sigma_z = np.array([[1,0],[0,-1]])"
   ]
  },
  {
   "cell_type": "code",
   "execution_count": 57,
   "id": "2051fde2-0570-40ba-b471-4cacd71a4c00",
   "metadata": {},
   "outputs": [],
   "source": [
    "parameters = {\n",
    "    'width' : 50, # This is in units of 3a\n",
    "    'length' : 25,\n",
    "    'bottom_bearded' : True,\n",
    "    'top_bearded' : False,\n",
    "    'mag_field' : 0.1,\n",
    "    'noise' : 0.5,\n",
    "    'seed' : 0\n",
    "             }\n",
    "#Calculate spectrum\n",
    "#spectrum = mb.graphene_spectrum(parameters)\n",
    "spectrum = graphene_spectrum(parameters)"
   ]
  },
  {
   "cell_type": "code",
   "execution_count": 58,
   "id": "e7a9dc76-24ac-4085-932d-051d6e60637a",
   "metadata": {},
   "outputs": [
    {
     "data": {
      "text/plain": [
       "(0.0, 100.0)"
      ]
     },
     "execution_count": 58,
     "metadata": {},
     "output_type": "execute_result"
    },
    {
     "data": {
      "image/png": "[encoded data removed]",
      "text/plain": [
       "<Figure size 700x700 with 1 Axes>"
      ]
     },
     "metadata": {},
     "output_type": "display_data"
    }
   ],
   "source": [
    "nbins = parameters['width']*parameters['length']//5+1-(parameters['width']*parameters['length']//5)%2\n",
    "#nbins = 201\n",
    "density_of_states, bin_edges = np.histogram(spectrum, bins = nbins, density = False)\n",
    "\n",
    "x = (bin_edges[1:]+bin_edges[:-1])/2\n",
    "dx = (bin_edges[1]-bin_edges[0])/2\n",
    "\n",
    "fig = plt.figure(figsize = (7,7))\n",
    "ax = fig.add_subplot(111)\n",
    "ax.bar(x,density_of_states,width = 2*dx)\n",
    "ax.set_ylabel(r\"$\\rho$ $units$\",fontsize = 18)\n",
    "ax.set_xlabel(r\"$E\\,(\\hbar v/a)$\",fontsize = 18)\n",
    "#ax.axvline(np.sqrt(2*parameters['mag_field']), c = 'C3')######################## Skipping orbits centered the edge of the ribbon\n",
    "ax.set_ylim(0,100)"
   ]
  },
  {
   "cell_type": "code",
   "execution_count": null,
   "id": "ffe25894-9905-41bb-b8f3-67ca307104ce",
   "metadata": {},
   "outputs": [],
   "source": [
    "#What I want to see is the LL structure smeared by disorder. There is a problem with the units of noise, Apparently they are samller than I thought/indend(how can such big disorder do so little?)"
   ]
  },
  {
   "cell_type": "code",
   "execution_count": 27,
   "id": "a4fc10a5-056b-41a5-8730-663269bc12f1",
   "metadata": {},
   "outputs": [],
   "source": [
    "def graphene_spectrum(parameters):\n",
    "    '''\n",
    "    Finds the spectrum of a graphene square\n",
    "    with zigzag boundary conditions in x direction\n",
    "    and open in y direction\n",
    "    in a uniform magnetic field.\n",
    "    The units are given by a = 1 (y = 3a), hbar = 1, e = 1, v_F = 1\n",
    "    -parameters: dict\n",
    "    Returns\n",
    "    -spectrum: numpy matrix of size (4*width-2+bottom_bearded+top_bearded)*length\n",
    "    '''\n",
    "    parameters['kx'] = 0\n",
    "    hamiltonian = graphene_square(parameters)\n",
    "    spectrum = np.linalg.eigvalsh(hamiltonian)\n",
    "\n",
    "    return spectrum\n",
    "\n",
    "def graphene_square(parameters):\n",
    "    '''\n",
    "    Returns the Hamiltonian for a square\n",
    "    geometry in a magnetic field.\n",
    "    In this case the units are given by a = 1 (y = 3a), hbar = 1, e = 1, v_F = 1\n",
    "    -parameters: dict\n",
    "    Returns\n",
    "    -H: numpy matrix of size 4*width-2+bottom_bearded+top_bearded\n",
    "    '''\n",
    "    #The parameters dictionary must have the following key,value pairs\n",
    "    length = parameters['length']     #int Number of lattice unit cells in x direction. Each cell contains 4 sites and it is sqrt(3)a long in x\n",
    "    width = parameters['width']       #int Number of lattice unit cells in y direction. Each cell contains 4 sites and it is 3a long in y\n",
    "    kx = parameters['kx']*np.sqrt(3)             # float in (-pi/pi] wavenumber in x direction. The sqrt(3) is because the x-direction lattice site is sqrt(3)a long.\n",
    "                                                 # This war parameters['k_x'] has units of 1/a\n",
    "    bottom_bearded = parameters['bottom_bearded'] #bool type of zigzag bc at the bottom\n",
    "    top_bearded = parameters['top_bearded']       #bool type of zigzag bc at the top\n",
    "    mag_field = parameters['mag_field']           #float magnetic field\n",
    "    noise = parameters['noise']       #int disorder strength\n",
    "\n",
    "    #Let us build the noise array\n",
    "    fluxes = noise*(np.random.rand(2*width-2,length)-0.5)*3*np.sqrt(3)/2 #Factor to make flux from magnetic field\n",
    "    random_contribution = np.cumsum(fluxes, axis=0) * ((-1) ** np.arange(fluxes.shape[0]))[:, None]\n",
    "    random_contribution = np.vstack([np.zeros((1, random_contribution.shape[1])), random_contribution])\n",
    "    \n",
    "    np.random.seed(parameters['seed']) #Set the seed before building the matrix\n",
    "    peierls_factor = np.sqrt(3)/2*mag_field*3 #The 3 is because the y-direction lattice site is 3a long\n",
    "\n",
    "    hamiltonian = np.zeros(((4*width-2+bottom_bearded+top_bearded)*length,(4*width-2+bottom_bearded+top_bearded)*length),dtype = complex)\n",
    "    \n",
    "\n",
    "    def index(orbital,y,x):\n",
    "        return orbital + 4*y-1+bottom_bearded + (width*4-2+bottom_bearded+top_bearded)*x\n",
    "        \n",
    "    ### We have 4 orbitals\n",
    "    for x in range(length):\n",
    "        for y in range(width):\n",
    "            if y!=0 or bottom_bearded:\n",
    "                hamiltonian[index(0,y,x),index(1,y,x)] += -1\n",
    "                hamiltonian[index(1,y,x),index(0,y,x)] += -1\n",
    "            \n",
    "            hamiltonian[index(1,y,x),index(2,y,x)] += -np.exp(1j*peierls_factor*(y-width/2))*np.exp(1j*random_contribution[2*y,x])\n",
    "            hamiltonian[index(2,y,x),index(1,y,x)] += -np.exp(-1j*peierls_factor*(y-width/2))*np.exp(-1j*random_contribution[2*y,x])\n",
    "            hamiltonian[index(1,y,x),index(2,y,(x-1)%length)] += -np.exp(-1j*peierls_factor*(y-width/2))*np.exp(-1j*kx*length*(1 if x==0 else 0))\n",
    "            hamiltonian[index(2,y,(x-1)%length),index(1,y,x)] += -np.exp(1j*peierls_factor*(y-width/2))*np.exp(1j*kx*length*(1 if x==0 else 0))\n",
    "            \n",
    "    \n",
    "            if y!=width-1 or top_bearded:\n",
    "                hamiltonian[index(2,y,x),index(3,y,x)] += -1\n",
    "                hamiltonian[index(3,y,x),index(2,y,x)] += -1\n",
    "    \n",
    "            if y!=width-1:\n",
    "                hamiltonian[index(3,y,x),index(0,y+1,x)] += -np.exp(-1j*peierls_factor*(y+0.5-width/2))*np.exp(1j*random_contribution[2*y+1,x])\n",
    "                hamiltonian[index(0,y+1,x),index(3,y,x)] += -np.exp(1j*peierls_factor*(y+0.5-width/2))*np.exp(-1j*random_contribution[2*y+1,x])\n",
    "                hamiltonian[index(3,y,x),index(0,y+1,(x+1)%length)] += -np.exp(1j*peierls_factor*(y+0.5-width/2))*np.exp(1j*kx*length*(1 if x==length-1 else 0))\n",
    "                hamiltonian[index(0,y+1,(x+1)%length),index(3,y,x)] += -np.exp(-1j*peierls_factor*(y+0.5-width/2))*np.exp(-1j*kx*length*(1 if x==length-1 else 0))\n",
    "\n",
    "    return hamiltonian*2/3 #Adjusting units so that the fermi velocity is equal to 1"
   ]
  },
  {
   "cell_type": "code",
   "execution_count": 32,
   "id": "6456cea0-ceb9-4b96-a928-5f23f95aa71a",
   "metadata": {},
   "outputs": [],
   "source": [
    "parameters = {\n",
    "    'width' : 50, # This is in units of 3a\n",
    "    'length' : 5,\n",
    "    'bottom_bearded' : True,\n",
    "    'top_bearded' : False,\n",
    "    'mag_field' : 0.1,\n",
    "    'noise' : 2,\n",
    "    'seed' : 0\n",
    "             }\n",
    "#Calculate spectrum\n",
    "spectrum = graphene_spectrum(parameters)"
   ]
  },
  {
   "cell_type": "code",
   "execution_count": 33,
   "id": "0300c398-b249-4829-a5d0-693e2c936e5d",
   "metadata": {},
   "outputs": [
    {
     "data": {
      "text/plain": [
       "<matplotlib.lines.Line2D at 0x709c3957ffe0>"
      ]
     },
     "execution_count": 33,
     "metadata": {},
     "output_type": "execute_result"
    },
    {
     "data": {
      "image/png": "[encoded data removed]",
      "text/plain": [
       "<Figure size 700x700 with 1 Axes>"
      ]
     },
     "metadata": {},
     "output_type": "display_data"
    }
   ],
   "source": [
    "nbins = parameters['width']*parameters['length']//5+1-(parameters['width']*parameters['length']//5)%2\n",
    "#nbins = 201\n",
    "density_of_states, bin_edges = np.histogram(spectrum, bins = nbins, density = False)\n",
    "\n",
    "x = (bin_edges[1:]+bin_edges[:-1])/2\n",
    "dx = (bin_edges[1]-bin_edges[0])/2\n",
    "\n",
    "fig = plt.figure(figsize = (7,7))\n",
    "ax = fig.add_subplot(111)\n",
    "ax.bar(x,density_of_states,width = 2*dx)\n",
    "ax.set_ylabel(r\"$\\rho$ $units$\",fontsize = 18)\n",
    "ax.set_xlabel(r\"$E\\,(\\hbar v/a)$\",fontsize = 18)\n",
    "ax.axvline(np.sqrt(2*parameters['mag_field']), c = 'C3')######################## Skipping orbits centered the edge of the ribbon\n",
    "#ax.set_xlim(-0.2,0.2)"
   ]
  },
  {
   "cell_type": "code",
   "execution_count": null,
   "id": "6a72fa50-d7e5-484a-8a76-0e458f0ac39d",
   "metadata": {},
   "outputs": [],
   "source": []
  }
 ],
 "metadata": {
  "kernelspec": {
   "display_name": "Python 3 (ipykernel)",
   "language": "python",
   "name": "python3"
  },
  "language_info": {
   "codemirror_mode": {
    "name": "ipython",
    "version": 3
   },
   "file_extension": ".py",
   "mimetype": "text/x-python",
   "name": "python",
   "nbconvert_exporter": "python",
   "pygments_lexer": "ipython3",
   "version": "3.12.2"
  }
 },
 "nbformat": 4,
 "nbformat_minor": 5
}
